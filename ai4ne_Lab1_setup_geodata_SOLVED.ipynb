{
 "cells": [
  {
   "cell_type": "markdown",
   "id": "4caaeb7d-2d42-4d6c-bdc1-4b09747e4420",
   "metadata": {},
   "source": [
    "Lab 1: Setting up Python, geodata, and parakeets\n",
    "==="
   ]
  },
  {
   "cell_type": "markdown",
   "id": "dff56962-767f-4f69-a9f4-54ac9bb076eb",
   "metadata": {},
   "source": [
    "1a: Setting up your Python environment\n",
    "---"
   ]
  },
  {
   "cell_type": "markdown",
   "id": "2c5925cc-cd53-4e05-bab9-092c853fcf9b",
   "metadata": {},
   "source": [
    "Create a virtual environment that you will use for this course, using \n",
    "EITHER conda or virtualenv. The file\n",
    "`requirements.txt`\n",
    "shows all the python module requirements to install.\n",
    "\n",
    "It installs a lot - the idea is to create a virtual environment that is ready for all the different lab exercises.\n",
    "\n",
    "When you set up your environment, you should do it in such a way that you will be able to **re-activate the environment in future weeks**, so that you don't have to run it all over again."
   ]
  },
  {
   "cell_type": "code",
   "execution_count": 1,
   "id": "4585faca-e331-441e-8f63-9d81198d1260",
   "metadata": {},
   "outputs": [],
   "source": [
    "# First ensure your conda/virtualenv is activated for your session.\n",
    "# Here's how I do it (on the command line, the CLI).\n",
    "# (I'm using virtualenv not conda.)\n",
    "#    virtualenv venv_ai4ne\n",
    "#    source ./venv_ai4ne/bin/activate\n",
    "#    ipython kernel install --user --name=venv_ai4ne\n",
    "# Next you can launch jupyter if you want, or continue this on the CLI."
   ]
  },
  {
   "cell_type": "code",
   "execution_count": 2,
   "id": "14aba44c-0022-4a38-968e-3bca32e6fb2f",
   "metadata": {},
   "outputs": [
    {
     "name": "stdout",
     "output_type": "stream",
     "text": [
      "/bin/bash: /home/danaconda/projects/AI4NE_code/venv_ai4ne_2/bin/pip: /home/danaconda/projects/AI4NE/venv_ai4ne_2/bin/python: bad interpreter: No such file or directory\n"
     ]
    },
    {
     "name": "stdout",
     "output_type": "stream",
     "text": [
      "/bin/bash: /home/danaconda/projects/AI4NE_code/venv_ai4ne_2/bin/pip: /home/danaconda/projects/AI4NE/venv_ai4ne_2/bin/python: bad interpreter: No such file or directory\n"
     ]
    }
   ],
   "source": [
    "# Now install the dependencies\n",
    "!pip install --upgrade pip\n",
    "!pip install -r requirements.txt"
   ]
  },
  {
   "cell_type": "markdown",
   "id": "6905fc30-34ab-4388-bdcc-c39dc687ac77",
   "metadata": {},
   "source": [
    "For me the installation takes about 15 minutes\n",
    "(mostly due to installing Torch and NVIDIA libraries).\n",
    "You can make a start on the first exercise \n",
    "even before this has finished."
   ]
  },
  {
   "cell_type": "markdown",
   "id": "97788584-b09a-4d16-89d6-cfbc62ed2d51",
   "metadata": {},
   "source": [
    "1b: Geographic analysis of parakeets\n",
    "---"
   ]
  },
  {
   "cell_type": "markdown",
   "id": "686a1531-ef19-4e2d-ad59-9d3c382e5eec",
   "metadata": {},
   "source": [
    "We're going to analyse the presence of invasive rose-ringed parakeets (Psittacula krameri) in the Netherlands, using crowdsourced observation data.\n",
    "\n",
    "<img src=\"https://1.bp.blogspot.com/-hKqTCTUpjYg/XSNZ5bqYBsI/AAAAAAAAA3Q/DLYZzr55b4oDD5Wj6lwM2XbG3eJBFojwgCLcBGAs/s1600/ringneck_parrot.jpg\" alt=\"Rose ringed parakeet\" width=\"50%\"/>"
   ]
  },
  {
   "cell_type": "markdown",
   "id": "926c48c4-fa34-46fe-b50d-88efbf0c023c",
   "metadata": {},
   "source": [
    "Download and extract the dataset **parakeetsNL400observations.zip** (2.7 MB): https://surfdrive.surf.nl/files/index.php/s/2O3mDnLoBCUr4tP"
   ]
  },
  {
   "cell_type": "markdown",
   "id": "03cb225a-4993-4da2-9c93-b0989ad579ad",
   "metadata": {},
   "source": [
    "You can open it in Excel to inspect it (it uses TAB-separated values). Look at these columns especially: `individualCount, decimalLatitude, decimalLongitude, eventDate, mediaType`"
   ]
  },
  {
   "cell_type": "code",
   "execution_count": 3,
   "id": "cf8c68e0",
   "metadata": {},
   "outputs": [
    {
     "name": "stdout",
     "output_type": "stream",
     "text": [
      "/bin/bash: /home/danaconda/projects/AI4NE_code/venv_ai4ne_2/bin/pip: /home/danaconda/projects/AI4NE/venv_ai4ne_2/bin/python: bad interpreter: No such file or directory\n"
     ]
    }
   ],
   "source": [
    "# requirements.txt was missing, so I installed the packages manually\n",
    "!pip install pandas geopandas matplotlib"
   ]
  },
  {
   "cell_type": "code",
   "execution_count": 4,
   "id": "f0b5a9a2-af6a-4c5a-a500-39c59a5a0a0a",
   "metadata": {},
   "outputs": [],
   "source": [
    "# Import libraries\n",
    "import pandas as pd\n",
    "import geopandas as gpd\n",
    "import matplotlib.pyplot as plt\n",
    "#import plotly.express as plotlyx"
   ]
  },
  {
   "cell_type": "code",
   "execution_count": 5,
   "id": "f85c41ba-bf69-439b-8ef2-95e172220785",
   "metadata": {},
   "outputs": [
    {
     "data": {
      "text/html": [
       "<div>\n",
       "<style scoped>\n",
       "    .dataframe tbody tr th:only-of-type {\n",
       "        vertical-align: middle;\n",
       "    }\n",
       "\n",
       "    .dataframe tbody tr th {\n",
       "        vertical-align: top;\n",
       "    }\n",
       "\n",
       "    .dataframe thead th {\n",
       "        text-align: right;\n",
       "    }\n",
       "</style>\n",
       "<table border=\"1\" class=\"dataframe\">\n",
       "  <thead>\n",
       "    <tr style=\"text-align: right;\">\n",
       "      <th></th>\n",
       "      <th>gbifID</th>\n",
       "      <th>datasetKey</th>\n",
       "      <th>occurrenceID</th>\n",
       "      <th>kingdom</th>\n",
       "      <th>phylum</th>\n",
       "      <th>class</th>\n",
       "      <th>order</th>\n",
       "      <th>family</th>\n",
       "      <th>genus</th>\n",
       "      <th>species</th>\n",
       "      <th>...</th>\n",
       "      <th>year</th>\n",
       "      <th>basisOfRecord</th>\n",
       "      <th>institutionCode</th>\n",
       "      <th>collectionCode</th>\n",
       "      <th>catalogNumber</th>\n",
       "      <th>identifiedBy</th>\n",
       "      <th>license</th>\n",
       "      <th>rightsHolder</th>\n",
       "      <th>recordedBy</th>\n",
       "      <th>mediaType</th>\n",
       "    </tr>\n",
       "  </thead>\n",
       "  <tbody>\n",
       "    <tr>\n",
       "      <th>0</th>\n",
       "      <td>979544661</td>\n",
       "      <td>4fa7b334-ce0d-4e88-aaae-2e0c138d049e</td>\n",
       "      <td>URN:catalog:CLO:EBIRD:OBS240283283</td>\n",
       "      <td>Animalia</td>\n",
       "      <td>Chordata</td>\n",
       "      <td>Aves</td>\n",
       "      <td>Psittaciformes</td>\n",
       "      <td>Psittacidae</td>\n",
       "      <td>Psittacula</td>\n",
       "      <td>Psittacula krameri</td>\n",
       "      <td>...</td>\n",
       "      <td>2012.0</td>\n",
       "      <td>HUMAN_OBSERVATION</td>\n",
       "      <td>CLO</td>\n",
       "      <td>EBIRD</td>\n",
       "      <td>OBS240283283</td>\n",
       "      <td>NaN</td>\n",
       "      <td>CC_BY_4_0</td>\n",
       "      <td>NaN</td>\n",
       "      <td>obsr240555</td>\n",
       "      <td>NaN</td>\n",
       "    </tr>\n",
       "    <tr>\n",
       "      <th>1</th>\n",
       "      <td>979313695</td>\n",
       "      <td>4fa7b334-ce0d-4e88-aaae-2e0c138d049e</td>\n",
       "      <td>URN:catalog:CLO:EBIRD:OBS239103121</td>\n",
       "      <td>Animalia</td>\n",
       "      <td>Chordata</td>\n",
       "      <td>Aves</td>\n",
       "      <td>Psittaciformes</td>\n",
       "      <td>Psittacidae</td>\n",
       "      <td>Psittacula</td>\n",
       "      <td>Psittacula krameri</td>\n",
       "      <td>...</td>\n",
       "      <td>2013.0</td>\n",
       "      <td>HUMAN_OBSERVATION</td>\n",
       "      <td>CLO</td>\n",
       "      <td>EBIRD</td>\n",
       "      <td>OBS239103121</td>\n",
       "      <td>NaN</td>\n",
       "      <td>CC_BY_4_0</td>\n",
       "      <td>NaN</td>\n",
       "      <td>obsr370975</td>\n",
       "      <td>NaN</td>\n",
       "    </tr>\n",
       "    <tr>\n",
       "      <th>2</th>\n",
       "      <td>979049243</td>\n",
       "      <td>4fa7b334-ce0d-4e88-aaae-2e0c138d049e</td>\n",
       "      <td>URN:catalog:CLO:EBIRD:OBS237336989</td>\n",
       "      <td>Animalia</td>\n",
       "      <td>Chordata</td>\n",
       "      <td>Aves</td>\n",
       "      <td>Psittaciformes</td>\n",
       "      <td>Psittacidae</td>\n",
       "      <td>Psittacula</td>\n",
       "      <td>Psittacula krameri</td>\n",
       "      <td>...</td>\n",
       "      <td>2013.0</td>\n",
       "      <td>HUMAN_OBSERVATION</td>\n",
       "      <td>CLO</td>\n",
       "      <td>EBIRD</td>\n",
       "      <td>OBS237336989</td>\n",
       "      <td>NaN</td>\n",
       "      <td>CC_BY_4_0</td>\n",
       "      <td>NaN</td>\n",
       "      <td>obsr428923</td>\n",
       "      <td>NaN</td>\n",
       "    </tr>\n",
       "    <tr>\n",
       "      <th>3</th>\n",
       "      <td>979048328</td>\n",
       "      <td>4fa7b334-ce0d-4e88-aaae-2e0c138d049e</td>\n",
       "      <td>URN:catalog:CLO:EBIRD:OBS237336763</td>\n",
       "      <td>Animalia</td>\n",
       "      <td>Chordata</td>\n",
       "      <td>Aves</td>\n",
       "      <td>Psittaciformes</td>\n",
       "      <td>Psittacidae</td>\n",
       "      <td>Psittacula</td>\n",
       "      <td>Psittacula krameri</td>\n",
       "      <td>...</td>\n",
       "      <td>2013.0</td>\n",
       "      <td>HUMAN_OBSERVATION</td>\n",
       "      <td>CLO</td>\n",
       "      <td>EBIRD</td>\n",
       "      <td>OBS237336763</td>\n",
       "      <td>NaN</td>\n",
       "      <td>CC_BY_4_0</td>\n",
       "      <td>NaN</td>\n",
       "      <td>obsr428923</td>\n",
       "      <td>NaN</td>\n",
       "    </tr>\n",
       "    <tr>\n",
       "      <th>4</th>\n",
       "      <td>977840381</td>\n",
       "      <td>4fa7b334-ce0d-4e88-aaae-2e0c138d049e</td>\n",
       "      <td>URN:catalog:CLO:EBIRD:OBS227514482</td>\n",
       "      <td>Animalia</td>\n",
       "      <td>Chordata</td>\n",
       "      <td>Aves</td>\n",
       "      <td>Psittaciformes</td>\n",
       "      <td>Psittacidae</td>\n",
       "      <td>Psittacula</td>\n",
       "      <td>Psittacula krameri</td>\n",
       "      <td>...</td>\n",
       "      <td>2013.0</td>\n",
       "      <td>HUMAN_OBSERVATION</td>\n",
       "      <td>CLO</td>\n",
       "      <td>EBIRD</td>\n",
       "      <td>OBS227514482</td>\n",
       "      <td>NaN</td>\n",
       "      <td>CC_BY_4_0</td>\n",
       "      <td>NaN</td>\n",
       "      <td>obsr450784</td>\n",
       "      <td>NaN</td>\n",
       "    </tr>\n",
       "  </tbody>\n",
       "</table>\n",
       "<p>5 rows × 35 columns</p>\n",
       "</div>"
      ],
      "text/plain": [
       "      gbifID                            datasetKey  \\\n",
       "0  979544661  4fa7b334-ce0d-4e88-aaae-2e0c138d049e   \n",
       "1  979313695  4fa7b334-ce0d-4e88-aaae-2e0c138d049e   \n",
       "2  979049243  4fa7b334-ce0d-4e88-aaae-2e0c138d049e   \n",
       "3  979048328  4fa7b334-ce0d-4e88-aaae-2e0c138d049e   \n",
       "4  977840381  4fa7b334-ce0d-4e88-aaae-2e0c138d049e   \n",
       "\n",
       "                         occurrenceID   kingdom    phylum class  \\\n",
       "0  URN:catalog:CLO:EBIRD:OBS240283283  Animalia  Chordata  Aves   \n",
       "1  URN:catalog:CLO:EBIRD:OBS239103121  Animalia  Chordata  Aves   \n",
       "2  URN:catalog:CLO:EBIRD:OBS237336989  Animalia  Chordata  Aves   \n",
       "3  URN:catalog:CLO:EBIRD:OBS237336763  Animalia  Chordata  Aves   \n",
       "4  URN:catalog:CLO:EBIRD:OBS227514482  Animalia  Chordata  Aves   \n",
       "\n",
       "            order       family       genus             species  ...    year  \\\n",
       "0  Psittaciformes  Psittacidae  Psittacula  Psittacula krameri  ...  2012.0   \n",
       "1  Psittaciformes  Psittacidae  Psittacula  Psittacula krameri  ...  2013.0   \n",
       "2  Psittaciformes  Psittacidae  Psittacula  Psittacula krameri  ...  2013.0   \n",
       "3  Psittaciformes  Psittacidae  Psittacula  Psittacula krameri  ...  2013.0   \n",
       "4  Psittaciformes  Psittacidae  Psittacula  Psittacula krameri  ...  2013.0   \n",
       "\n",
       "       basisOfRecord institutionCode collectionCode catalogNumber  \\\n",
       "0  HUMAN_OBSERVATION             CLO          EBIRD  OBS240283283   \n",
       "1  HUMAN_OBSERVATION             CLO          EBIRD  OBS239103121   \n",
       "2  HUMAN_OBSERVATION             CLO          EBIRD  OBS237336989   \n",
       "3  HUMAN_OBSERVATION             CLO          EBIRD  OBS237336763   \n",
       "4  HUMAN_OBSERVATION             CLO          EBIRD  OBS227514482   \n",
       "\n",
       "  identifiedBy    license  rightsHolder  recordedBy  mediaType  \n",
       "0          NaN  CC_BY_4_0           NaN  obsr240555        NaN  \n",
       "1          NaN  CC_BY_4_0           NaN  obsr370975        NaN  \n",
       "2          NaN  CC_BY_4_0           NaN  obsr428923        NaN  \n",
       "3          NaN  CC_BY_4_0           NaN  obsr428923        NaN  \n",
       "4          NaN  CC_BY_4_0           NaN  obsr450784        NaN  \n",
       "\n",
       "[5 rows x 35 columns]"
      ]
     },
     "execution_count": 5,
     "metadata": {},
     "output_type": "execute_result"
    }
   ],
   "source": [
    "# Load the CSV of parakeet observations\n",
    "# datapath = '/home/dans/Documents/tilnat/teaching_planning/ai4ne/datasets/parakeetsNL400/occurrence_parakeetsNL_roseringed.tsv'\n",
    "datapath = 'datasets/parakeetsNL400observations/occurrence_parakeetsNL_roseringed.tsv'\n",
    "df = pd.read_csv(datapath, delimiter=\"\\t\", low_memory=False)\n",
    "df.head()"
   ]
  },
  {
   "cell_type": "markdown",
   "id": "92072534-cb96-4cd4-bddd-1b7e82ac2d14",
   "metadata": {},
   "source": [
    "Let's create a plot showing the spatial distribution of the data points. We start with a simple scatter plot (\"plt.scatter()\") to show the data points themselves. A more advanced plot would show a map for context."
   ]
  },
  {
   "cell_type": "code",
   "execution_count": 6,
   "id": "a6c2e55c-1361-4b5d-9a4a-7ae1d8556d4f",
   "metadata": {},
   "outputs": [
    {
     "data": {
      "text/plain": [
       "<matplotlib.collections.PathCollection at 0x7fa622284820>"
      ]
     },
     "execution_count": 6,
     "metadata": {},
     "output_type": "execute_result"
    },
    {
     "data": {
      "image/png": "[encoded data removed]",
      "text/plain": [
       "<Figure size 640x480 with 1 Axes>"
      ]
     },
     "metadata": {},
     "output_type": "display_data"
    }
   ],
   "source": [
    "# Now a simple scatter plot\n",
    "# df['decimalLongitude'] on the X axis and df['decimalLatitude'] the Y axis\n",
    "plt.scatter(df['decimalLongitude'], df['decimalLatitude'], marker='x')"
   ]
  },
  {
   "cell_type": "markdown",
   "id": "3b6db5d3-1861-4b0f-87e1-dd24a8c88f74",
   "metadata": {},
   "source": [
    "Write code below to answer the following questions:\n",
    "\n",
    "1. In your data, are there parakeets in the Tilburg area?\n",
    "2. If so, how many, in which years?"
   ]
  },
  {
   "cell_type": "code",
   "execution_count": 7,
   "id": "da636798-eae6-4027-8640-fbe6c198c869",
   "metadata": {},
   "outputs": [
    {
     "name": "stdout",
     "output_type": "stream",
     "text": [
      "number of parakeet observations in Tilburg: 60\n",
      "they are from the years: [2023. 2022. 2021. 2020. 2019.]\n"
     ]
    }
   ],
   "source": [
    "# These values might be useful:\n",
    "# Tilburg's decimal coordinates\n",
    "loc_tilburg = (51.55, 5.083)   # lat, lon\n",
    "# A \"bbox\" surrounding Tilburg\n",
    "bbox_tilburg = [51.52583,4.95964,51.61375,5.17662]   # lat, lon, lat, lon\n",
    "\n",
    "# Your code here\n",
    "df_tilburg = df[(df['decimalLatitude'] > bbox_tilburg[0]) & (df['decimalLatitude'] < bbox_tilburg[2]) & (df['decimalLongitude'] > bbox_tilburg[1]) & (df['decimalLongitude'] < bbox_tilburg[3])]\n",
    "\n",
    "print(f'number of parakeet observations in Tilburg: {df_tilburg.shape[0]}')\n",
    "print(f'they are from the years: {df_tilburg[\"year\"].unique()}')\n"
   ]
  },
  {
   "cell_type": "markdown",
   "id": "11b82cf2-f27c-4f66-b746-269a361c94be",
   "metadata": {},
   "source": [
    "Analyse the data and write some notes about the data quality. Do the data seem to be complete? Do they come from multiple sources, or just one? Multiple years? Are there any biases or other issues apparent in the data? Overall, can we trust that the distribution of points represents the true distribution of individuals?"
   ]
  },
  {
   "cell_type": "markdown",
   "id": "b127a0ac",
   "metadata": {},
   "source": [
    "Data completeness"
   ]
  },
  {
   "cell_type": "code",
   "execution_count": 8,
   "id": "edbb34ee",
   "metadata": {},
   "outputs": [
    {
     "name": "stdout",
     "output_type": "stream",
     "text": [
      "nans: 298368\n",
      "size: 2570645\n",
      "percentage of nans: 11.60673683063978%\n"
     ]
    }
   ],
   "source": [
    "print(f'nans: {df.isnull().sum().sum()}')\n",
    "print(f'size: {df.size}')\n",
    "print(f'percentage of nans: {df.isnull().sum().sum()/df.size*100}%')"
   ]
  },
  {
   "cell_type": "code",
   "execution_count": 9,
   "id": "e968b1f0",
   "metadata": {},
   "outputs": [
    {
     "data": {
      "text/plain": [
       "coordinatePrecision              99.946900\n",
       "identifiedBy                     99.475812\n",
       "institutionCode                  92.793443\n",
       "mediaType                        90.153444\n",
       "coordinateUncertaintyInMeters    13.420562\n",
       "rightsHolder                      6.926083\n",
       "individualCount                   1.846229\n",
       "locality                          0.552780\n",
       "catalogNumber                     0.341743\n",
       "collectionCode                    0.303620\n",
       "stateProvince                     0.176998\n",
       "recordedBy                        0.099391\n",
       "occurrenceID                      0.061269\n",
       "day                               0.038123\n",
       "month                             0.034038\n",
       "year                              0.032677\n",
       "eventDate                         0.032677\n",
       "datasetKey                        0.000000\n",
       "gbifID                            0.000000\n",
       "decimalLatitude                   0.000000\n",
       "occurrenceStatus                  0.000000\n",
       "verbatimScientificName            0.000000\n",
       "countryCode                       0.000000\n",
       "scientificName                    0.000000\n",
       "genus                             0.000000\n",
       "species                           0.000000\n",
       "taxonRank                         0.000000\n",
       "order                             0.000000\n",
       "class                             0.000000\n",
       "phylum                            0.000000\n",
       "family                            0.000000\n",
       "kingdom                           0.000000\n",
       "decimalLongitude                  0.000000\n",
       "basisOfRecord                     0.000000\n",
       "license                           0.000000\n",
       "dtype: float64"
      ]
     },
     "execution_count": 9,
     "metadata": {},
     "output_type": "execute_result"
    }
   ],
   "source": [
    "# percentage of nans per column\n",
    "df.isnull().sum().sort_values(ascending=False)/len(df)*100"
   ]
  },
  {
   "cell_type": "markdown",
   "id": "4866b331",
   "metadata": {},
   "source": [
    "Some columns have many missing values but the more important ones are nearly complete."
   ]
  },
  {
   "cell_type": "markdown",
   "id": "8aaf685c",
   "metadata": {},
   "source": [
    "Sources"
   ]
  },
  {
   "cell_type": "code",
   "execution_count": 10,
   "id": "8c17fd72",
   "metadata": {},
   "outputs": [
    {
     "name": "stdout",
     "output_type": "stream",
     "text": [
      "number of sources: 20\n"
     ]
    }
   ],
   "source": [
    "print(f'number of sources: {df[\"datasetKey\"].nunique() }')"
   ]
  },
  {
   "cell_type": "code",
   "execution_count": 11,
   "id": "1fb3d6b7",
   "metadata": {},
   "outputs": [
    {
     "data": {
      "text/plain": [
       "datasetKey\n",
       "8a863029-f435-446a-821e-275f4f641165    67897\n",
       "4fa7b334-ce0d-4e88-aaae-2e0c138d049e     4798\n",
       "50c9509d-22c7-4a22-a47d-8c48425ef4a7      353\n",
       "6ff8b3b0-ef0f-4f79-a310-5a5615c6aa0b      215\n",
       "6ac3f774-d9fb-4796-b3e9-92bf6c81c084       43\n",
       "a307e4d7-1de2-4adc-95d5-a0a8d5f57236       39\n",
       "b1047888-ae52-4179-9dd5-5448ea342a24       22\n",
       "c779b049-28f3-4daf-bbf4-0a40830819b6       22\n",
       "99047b1e-ee53-4053-ba69-2e28eaaa45d9       17\n",
       "889c91a3-614f-4355-8df8-b6d0260a118c       13\n",
       "8ae09016-b819-450e-b8f6-c1f249110502       10\n",
       "9a0b66df-7535-4f28-9f4e-5bc11b8b096c        6\n",
       "b84a3711-b4ca-4e4f-adac-80dfaea98d1c        4\n",
       "df12ca07-f133-4550-ab3b-fde13f0e76ba        2\n",
       "04871911-1b00-41f3-8dc6-fc0cea421f96        1\n",
       "cb6e66f1-3056-404d-a341-bb856762c57c        1\n",
       "629befd5-fb45-4365-95c4-d07e72479b37        1\n",
       "aa6c5ee6-d4d7-4a65-a04f-379cffbf4842        1\n",
       "81c5a091-6e94-40db-a2a4-48f4de42d410        1\n",
       "e6c97f6e-e952-11e2-961f-00145eb45e9a        1\n",
       "Name: count, dtype: int64"
      ]
     },
     "execution_count": 11,
     "metadata": {},
     "output_type": "execute_result"
    }
   ],
   "source": [
    "# number of observations per source\n",
    "df[\"datasetKey\"].value_counts()"
   ]
  },
  {
   "cell_type": "markdown",
   "id": "3820cde5",
   "metadata": {},
   "source": [
    "Years of observations"
   ]
  },
  {
   "cell_type": "code",
   "execution_count": 12,
   "id": "12673552",
   "metadata": {},
   "outputs": [
    {
     "name": "stdout",
     "output_type": "stream",
     "text": [
      "years: 1976 - 2023\n",
      "number of years: 38\n"
     ]
    }
   ],
   "source": [
    "print(f'years: {int(df[\"year\"].min())} - {int(df[\"year\"].max())}')\n",
    "print(f'number of years: {len(df[\"year\"].unique())}')"
   ]
  },
  {
   "cell_type": "code",
   "execution_count": 13,
   "id": "5fc57506",
   "metadata": {},
   "outputs": [
    {
     "data": {
      "text/plain": [
       "[<matplotlib.lines.Line2D at 0x7fa622185f90>]"
      ]
     },
     "execution_count": 13,
     "metadata": {},
     "output_type": "execute_result"
    },
    {
     "data": {
      "image/png": "[encoded data removed]",
      "text/plain": [
       "<Figure size 640x480 with 1 Axes>"
      ]
     },
     "metadata": {},
     "output_type": "display_data"
    }
   ],
   "source": [
    "# number of observations per year\n",
    "plt.plot(df[\"year\"].value_counts().sort_index())"
   ]
  },
  {
   "cell_type": "markdown",
   "id": "59dd8fdf",
   "metadata": {},
   "source": [
    "Biases"
   ]
  },
  {
   "cell_type": "code",
   "execution_count": 14,
   "id": "4fb756ff",
   "metadata": {},
   "outputs": [
    {
     "data": {
      "text/plain": [
       "array(['HUMAN_OBSERVATION', 'MACHINE_OBSERVATION', 'PRESERVED_SPECIMEN',\n",
       "       'OCCURRENCE'], dtype=object)"
      ]
     },
     "execution_count": 14,
     "metadata": {},
     "output_type": "execute_result"
    }
   ],
   "source": [
    "df[\"basisOfRecord\"].unique()"
   ]
  },
  {
   "cell_type": "code",
   "execution_count": 15,
   "id": "6e9b4b16",
   "metadata": {},
   "outputs": [
    {
     "data": {
      "text/plain": [
       "basisOfRecord\n",
       "HUMAN_OBSERVATION      73387\n",
       "PRESERVED_SPECIMEN        52\n",
       "OCCURRENCE                 6\n",
       "MACHINE_OBSERVATION        2\n",
       "Name: count, dtype: int64"
      ]
     },
     "execution_count": 15,
     "metadata": {},
     "output_type": "execute_result"
    }
   ],
   "source": [
    "# value counts of basisOfRecord\n",
    "df[\"basisOfRecord\"].value_counts()"
   ]
  },
  {
   "cell_type": "markdown",
   "id": "69e6b71c",
   "metadata": {},
   "source": [
    "Human observations might lead to biased inferences about parakeets as the voluntary observer contributions were not organized to sample uniformly accros space and time"
   ]
  },
  {
   "cell_type": "markdown",
   "id": "20b3306c-5812-43de-a43b-e3e30f67ebf7",
   "metadata": {},
   "source": [
    "---\n",
    "\n",
    "***OPTIONAL EXTRA:*** Our data came from **GBIF**. Choose a different species (or taxonomic group), and download its observation data from GBIF. Make sure that you choose a geographic range so that you have at least 1,000 data points in the download, but not too many (not more than 100,000).\n",
    "\n",
    "https://www.gbif.org/occurrence/search\n",
    "\n",
    "It will take a few minutes for the data download to be generated for you.\n",
    "Repeat the plotting and analysis steps you did for the parakeet data."
   ]
  },
  {
   "cell_type": "markdown",
   "id": "bb6422f8",
   "metadata": {},
   "source": [
    "**Saker falcon observations**"
   ]
  },
  {
   "cell_type": "code",
   "execution_count": 16,
   "id": "bfc0d516-3f26-4048-9fbf-a31503bf61e4",
   "metadata": {},
   "outputs": [
    {
     "data": {
      "text/html": [
       "<div>\n",
       "<style scoped>\n",
       "    .dataframe tbody tr th:only-of-type {\n",
       "        vertical-align: middle;\n",
       "    }\n",
       "\n",
       "    .dataframe tbody tr th {\n",
       "        vertical-align: top;\n",
       "    }\n",
       "\n",
       "    .dataframe thead th {\n",
       "        text-align: right;\n",
       "    }\n",
       "</style>\n",
       "<table border=\"1\" class=\"dataframe\">\n",
       "  <thead>\n",
       "    <tr style=\"text-align: right;\">\n",
       "      <th></th>\n",
       "      <th>gbifID</th>\n",
       "      <th>datasetKey</th>\n",
       "      <th>occurrenceID</th>\n",
       "      <th>kingdom</th>\n",
       "      <th>phylum</th>\n",
       "      <th>class</th>\n",
       "      <th>order</th>\n",
       "      <th>family</th>\n",
       "      <th>genus</th>\n",
       "      <th>species</th>\n",
       "      <th>...</th>\n",
       "      <th>identifiedBy</th>\n",
       "      <th>dateIdentified</th>\n",
       "      <th>license</th>\n",
       "      <th>rightsHolder</th>\n",
       "      <th>recordedBy</th>\n",
       "      <th>typeStatus</th>\n",
       "      <th>establishmentMeans</th>\n",
       "      <th>lastInterpreted</th>\n",
       "      <th>mediaType</th>\n",
       "      <th>issue</th>\n",
       "    </tr>\n",
       "  </thead>\n",
       "  <tbody>\n",
       "    <tr>\n",
       "      <th>0</th>\n",
       "      <td>921706767</td>\n",
       "      <td>6ac3f774-d9fb-4796-b3e9-92bf6c81c084</td>\n",
       "      <td>NaN</td>\n",
       "      <td>Animalia</td>\n",
       "      <td>Chordata</td>\n",
       "      <td>Aves</td>\n",
       "      <td>Falconiformes</td>\n",
       "      <td>Falconidae</td>\n",
       "      <td>Falco</td>\n",
       "      <td>Falco cherrug</td>\n",
       "      <td>...</td>\n",
       "      <td>NaN</td>\n",
       "      <td>NaN</td>\n",
       "      <td>CC_BY_4_0</td>\n",
       "      <td>NaN</td>\n",
       "      <td>205308930</td>\n",
       "      <td>NaN</td>\n",
       "      <td>NaN</td>\n",
       "      <td>2024-03-15T23:23:53.793Z</td>\n",
       "      <td>NaN</td>\n",
       "      <td>COORDINATE_ROUNDED;GEODETIC_DATUM_ASSUMED_WGS8...</td>\n",
       "    </tr>\n",
       "    <tr>\n",
       "      <th>1</th>\n",
       "      <td>921705779</td>\n",
       "      <td>6ac3f774-d9fb-4796-b3e9-92bf6c81c084</td>\n",
       "      <td>NaN</td>\n",
       "      <td>Animalia</td>\n",
       "      <td>Chordata</td>\n",
       "      <td>Aves</td>\n",
       "      <td>Falconiformes</td>\n",
       "      <td>Falconidae</td>\n",
       "      <td>Falco</td>\n",
       "      <td>Falco cherrug</td>\n",
       "      <td>...</td>\n",
       "      <td>NaN</td>\n",
       "      <td>NaN</td>\n",
       "      <td>CC_BY_4_0</td>\n",
       "      <td>NaN</td>\n",
       "      <td>33304576</td>\n",
       "      <td>NaN</td>\n",
       "      <td>NaN</td>\n",
       "      <td>2024-03-15T23:26:10.328Z</td>\n",
       "      <td>NaN</td>\n",
       "      <td>COORDINATE_ROUNDED;GEODETIC_DATUM_ASSUMED_WGS8...</td>\n",
       "    </tr>\n",
       "    <tr>\n",
       "      <th>2</th>\n",
       "      <td>921705087</td>\n",
       "      <td>6ac3f774-d9fb-4796-b3e9-92bf6c81c084</td>\n",
       "      <td>NaN</td>\n",
       "      <td>Animalia</td>\n",
       "      <td>Chordata</td>\n",
       "      <td>Aves</td>\n",
       "      <td>Falconiformes</td>\n",
       "      <td>Falconidae</td>\n",
       "      <td>Falco</td>\n",
       "      <td>Falco cherrug</td>\n",
       "      <td>...</td>\n",
       "      <td>NaN</td>\n",
       "      <td>NaN</td>\n",
       "      <td>CC_BY_4_0</td>\n",
       "      <td>NaN</td>\n",
       "      <td>881932368</td>\n",
       "      <td>NaN</td>\n",
       "      <td>NaN</td>\n",
       "      <td>2024-03-15T23:23:21.814Z</td>\n",
       "      <td>NaN</td>\n",
       "      <td>COORDINATE_ROUNDED;GEODETIC_DATUM_ASSUMED_WGS8...</td>\n",
       "    </tr>\n",
       "    <tr>\n",
       "      <th>3</th>\n",
       "      <td>921705010</td>\n",
       "      <td>6ac3f774-d9fb-4796-b3e9-92bf6c81c084</td>\n",
       "      <td>NaN</td>\n",
       "      <td>Animalia</td>\n",
       "      <td>Chordata</td>\n",
       "      <td>Aves</td>\n",
       "      <td>Falconiformes</td>\n",
       "      <td>Falconidae</td>\n",
       "      <td>Falco</td>\n",
       "      <td>Falco cherrug</td>\n",
       "      <td>...</td>\n",
       "      <td>NaN</td>\n",
       "      <td>NaN</td>\n",
       "      <td>CC_BY_4_0</td>\n",
       "      <td>NaN</td>\n",
       "      <td>-640879862</td>\n",
       "      <td>NaN</td>\n",
       "      <td>NaN</td>\n",
       "      <td>2024-03-15T23:20:35.506Z</td>\n",
       "      <td>NaN</td>\n",
       "      <td>COORDINATE_ROUNDED;GEODETIC_DATUM_ASSUMED_WGS8...</td>\n",
       "    </tr>\n",
       "    <tr>\n",
       "      <th>4</th>\n",
       "      <td>921704544</td>\n",
       "      <td>6ac3f774-d9fb-4796-b3e9-92bf6c81c084</td>\n",
       "      <td>NaN</td>\n",
       "      <td>Animalia</td>\n",
       "      <td>Chordata</td>\n",
       "      <td>Aves</td>\n",
       "      <td>Falconiformes</td>\n",
       "      <td>Falconidae</td>\n",
       "      <td>Falco</td>\n",
       "      <td>Falco cherrug</td>\n",
       "      <td>...</td>\n",
       "      <td>NaN</td>\n",
       "      <td>NaN</td>\n",
       "      <td>CC_BY_4_0</td>\n",
       "      <td>NaN</td>\n",
       "      <td>-640879862</td>\n",
       "      <td>NaN</td>\n",
       "      <td>NaN</td>\n",
       "      <td>2024-03-15T23:23:47.488Z</td>\n",
       "      <td>NaN</td>\n",
       "      <td>COORDINATE_ROUNDED;GEODETIC_DATUM_ASSUMED_WGS8...</td>\n",
       "    </tr>\n",
       "  </tbody>\n",
       "</table>\n",
       "<p>5 rows × 50 columns</p>\n",
       "</div>"
      ],
      "text/plain": [
       "      gbifID                            datasetKey occurrenceID   kingdom  \\\n",
       "0  921706767  6ac3f774-d9fb-4796-b3e9-92bf6c81c084          NaN  Animalia   \n",
       "1  921705779  6ac3f774-d9fb-4796-b3e9-92bf6c81c084          NaN  Animalia   \n",
       "2  921705087  6ac3f774-d9fb-4796-b3e9-92bf6c81c084          NaN  Animalia   \n",
       "3  921705010  6ac3f774-d9fb-4796-b3e9-92bf6c81c084          NaN  Animalia   \n",
       "4  921704544  6ac3f774-d9fb-4796-b3e9-92bf6c81c084          NaN  Animalia   \n",
       "\n",
       "     phylum class          order      family  genus        species  ...  \\\n",
       "0  Chordata  Aves  Falconiformes  Falconidae  Falco  Falco cherrug  ...   \n",
       "1  Chordata  Aves  Falconiformes  Falconidae  Falco  Falco cherrug  ...   \n",
       "2  Chordata  Aves  Falconiformes  Falconidae  Falco  Falco cherrug  ...   \n",
       "3  Chordata  Aves  Falconiformes  Falconidae  Falco  Falco cherrug  ...   \n",
       "4  Chordata  Aves  Falconiformes  Falconidae  Falco  Falco cherrug  ...   \n",
       "\n",
       "  identifiedBy dateIdentified    license rightsHolder  recordedBy typeStatus  \\\n",
       "0          NaN            NaN  CC_BY_4_0          NaN   205308930        NaN   \n",
       "1          NaN            NaN  CC_BY_4_0          NaN    33304576        NaN   \n",
       "2          NaN            NaN  CC_BY_4_0          NaN   881932368        NaN   \n",
       "3          NaN            NaN  CC_BY_4_0          NaN  -640879862        NaN   \n",
       "4          NaN            NaN  CC_BY_4_0          NaN  -640879862        NaN   \n",
       "\n",
       "  establishmentMeans           lastInterpreted mediaType  \\\n",
       "0                NaN  2024-03-15T23:23:53.793Z       NaN   \n",
       "1                NaN  2024-03-15T23:26:10.328Z       NaN   \n",
       "2                NaN  2024-03-15T23:23:21.814Z       NaN   \n",
       "3                NaN  2024-03-15T23:20:35.506Z       NaN   \n",
       "4                NaN  2024-03-15T23:23:47.488Z       NaN   \n",
       "\n",
       "                                               issue  \n",
       "0  COORDINATE_ROUNDED;GEODETIC_DATUM_ASSUMED_WGS8...  \n",
       "1  COORDINATE_ROUNDED;GEODETIC_DATUM_ASSUMED_WGS8...  \n",
       "2  COORDINATE_ROUNDED;GEODETIC_DATUM_ASSUMED_WGS8...  \n",
       "3  COORDINATE_ROUNDED;GEODETIC_DATUM_ASSUMED_WGS8...  \n",
       "4  COORDINATE_ROUNDED;GEODETIC_DATUM_ASSUMED_WGS8...  \n",
       "\n",
       "[5 rows x 50 columns]"
      ]
     },
     "execution_count": 16,
     "metadata": {},
     "output_type": "execute_result"
    }
   ],
   "source": [
    "# Your code here\n",
    "\n",
    "# saker falcon observations were downloaded from GBIF\n",
    "\n",
    "datapath_falcon = 'datasets/falco_cherrug_observations.csv'\n",
    "df2 = pd.read_csv(datapath_falcon, delimiter=\"\\t\", low_memory=False)\n",
    "df2.head()"
   ]
  },
  {
   "cell_type": "code",
   "execution_count": 17,
   "id": "85c9f3cf",
   "metadata": {},
   "outputs": [
    {
     "data": {
      "text/plain": [
       "<matplotlib.collections.PathCollection at 0x7fa621743820>"
      ]
     },
     "execution_count": 17,
     "metadata": {},
     "output_type": "execute_result"
    },
    {
     "data": {
      "image/png": "[encoded data removed]",
      "text/plain": [
       "<Figure size 640x480 with 1 Axes>"
      ]
     },
     "metadata": {},
     "output_type": "display_data"
    }
   ],
   "source": [
    "plt.scatter(df2['decimalLongitude'], df2['decimalLatitude'], marker='x')"
   ]
  },
  {
   "cell_type": "markdown",
   "id": "1d7de790",
   "metadata": {},
   "source": [
    "Saker falcons were observed across all of Europe, and continental Asia. Few observation were also made around the equatorial in Africa"
   ]
  },
  {
   "cell_type": "code",
   "execution_count": 18,
   "id": "de10a6d0",
   "metadata": {},
   "outputs": [
    {
     "name": "stdout",
     "output_type": "stream",
     "text": [
      "number of saker falcon observations in Tilburg: 0\n",
      "they are from the years: []\n"
     ]
    }
   ],
   "source": [
    "# These values might be useful:\n",
    "# Tilburg's decimal coordinates\n",
    "loc_tilburg = (51.55, 5.083)   # lat, lon\n",
    "# A \"bbox\" surrounding Tilburg\n",
    "bbox_tilburg = [51.52583,4.95964,51.61375,5.17662]   # lat, lon, lat, lon\n",
    "\n",
    "# Your code here\n",
    "df_tilburg = df2[(df2['decimalLatitude'] > bbox_tilburg[0]) & (df2['decimalLatitude'] < bbox_tilburg[2]) & (df2['decimalLongitude'] > bbox_tilburg[1]) & (df2['decimalLongitude'] < bbox_tilburg[3])]\n",
    "\n",
    "print(f'number of saker falcon observations in Tilburg: {df_tilburg.shape[0]}')\n",
    "print(f'they are from the years: {df_tilburg[\"year\"].unique()}')"
   ]
  },
  {
   "cell_type": "markdown",
   "id": "5e69c3fa",
   "metadata": {},
   "source": [
    "No saker falcons were observed around tilburg"
   ]
  },
  {
   "cell_type": "code",
   "execution_count": 19,
   "id": "a57efdf9",
   "metadata": {},
   "outputs": [
    {
     "name": "stdout",
     "output_type": "stream",
     "text": [
      "number of saker falcon observations in Tilburg: 12\n",
      "they are from the years: [2005. 1999. 2012. 2009. 2007.   nan]\n"
     ]
    }
   ],
   "source": [
    "# A \"bbox\" surrounding Tilburg\n",
    "bbox_tilburg = [50.55,4.68,52.55,5.48]   # lat, lon, lat, lon\n",
    "\n",
    "# Your code here\n",
    "df_tilburg = df2[(df2['decimalLatitude'] > bbox_tilburg[0]) & (df2['decimalLatitude'] < bbox_tilburg[2]) & (df2['decimalLongitude'] > bbox_tilburg[1]) & (df2['decimalLongitude'] < bbox_tilburg[3])]\n",
    "\n",
    "print(f'number of saker falcon observations in Tilburg: {df_tilburg.shape[0]}')\n",
    "print(f'they are from the years: {df_tilburg[\"year\"].unique()}')"
   ]
  },
  {
   "cell_type": "markdown",
   "id": "7bd09b51",
   "metadata": {},
   "source": [
    "In the bigger region around tilburg (bounding box 4-times wider in latitude and longtitude), there were observation of saker falcon"
   ]
  },
  {
   "cell_type": "markdown",
   "id": "1ab41469",
   "metadata": {},
   "source": [
    "Data completeness"
   ]
  },
  {
   "cell_type": "code",
   "execution_count": 20,
   "id": "1030c4c5",
   "metadata": {},
   "outputs": [
    {
     "name": "stdout",
     "output_type": "stream",
     "text": [
      "nans: 179759\n",
      "size: 464550\n",
      "percentage of nans: 38.69529652351738%\n"
     ]
    }
   ],
   "source": [
    "print(f'nans: {df2.isnull().sum().sum()}')\n",
    "print(f'size: {df2.size}')\n",
    "print(f'percentage of nans: {df2.isnull().sum().sum()/df2.size*100}%')"
   ]
  },
  {
   "cell_type": "code",
   "execution_count": 21,
   "id": "52a8ba5f",
   "metadata": {},
   "outputs": [
    {
     "data": {
      "text/plain": [
       "depth                               100.000000\n",
       "depthAccuracy                       100.000000\n",
       "typeStatus                           99.978474\n",
       "coordinatePrecision                  99.870843\n",
       "elevationAccuracy                    99.644818\n",
       "recordNumber                         99.504897\n",
       "elevation                            99.311161\n",
       "establishmentMeans                   99.300398\n",
       "infraspecificEpithet                 97.890432\n",
       "verbatimScientificNameAuthorship     96.028415\n",
       "dateIdentified                       93.649769\n",
       "mediaType                            88.192875\n",
       "identifiedBy                         87.116564\n",
       "rightsHolder                         85.039285\n",
       "locality                             82.391562\n",
       "stateProvince                        55.128619\n",
       "institutionCode                      54.870305\n",
       "catalogNumber                        50.877193\n",
       "collectionCode                       50.371327\n",
       "coordinateUncertaintyInMeters        47.637499\n",
       "individualCount                      45.635561\n",
       "recordedBy                           34.721774\n",
       "day                                  33.623937\n",
       "month                                32.870520\n",
       "year                                 31.030029\n",
       "eventDate                            30.825530\n",
       "decimalLatitude                      16.704338\n",
       "decimalLongitude                     16.704338\n",
       "occurrenceID                          3.045958\n",
       "countryCode                           1.840491\n",
       "issue                                 0.882575\n",
       "verbatimScientificName                0.075342\n",
       "gbifID                                0.000000\n",
       "datasetKey                            0.000000\n",
       "taxonRank                             0.000000\n",
       "scientificName                        0.000000\n",
       "phylum                                0.000000\n",
       "class                                 0.000000\n",
       "order                                 0.000000\n",
       "family                                0.000000\n",
       "genus                                 0.000000\n",
       "species                               0.000000\n",
       "kingdom                               0.000000\n",
       "taxonKey                              0.000000\n",
       "publishingOrgKey                      0.000000\n",
       "occurrenceStatus                      0.000000\n",
       "basisOfRecord                         0.000000\n",
       "speciesKey                            0.000000\n",
       "license                               0.000000\n",
       "lastInterpreted                       0.000000\n",
       "dtype: float64"
      ]
     },
     "execution_count": 21,
     "metadata": {},
     "output_type": "execute_result"
    }
   ],
   "source": [
    "# percentage of nans per column\n",
    "df2.isnull().sum().sort_values(ascending=False)/len(df2)*100"
   ]
  },
  {
   "cell_type": "markdown",
   "id": "ccb94a50",
   "metadata": {},
   "source": [
    "There is a high proportion of missing values, even for more important attributes, such as the time of observation."
   ]
  },
  {
   "cell_type": "markdown",
   "id": "dad94ba2",
   "metadata": {},
   "source": [
    "Sources"
   ]
  },
  {
   "cell_type": "code",
   "execution_count": 22,
   "id": "9da1fdfc",
   "metadata": {},
   "outputs": [
    {
     "name": "stdout",
     "output_type": "stream",
     "text": [
      "number of sources: 135\n"
     ]
    }
   ],
   "source": [
    "print(f'number of sources: {df2[\"datasetKey\"].nunique() }')"
   ]
  },
  {
   "cell_type": "code",
   "execution_count": 23,
   "id": "b4d38c1d",
   "metadata": {},
   "outputs": [
    {
     "data": {
      "text/plain": [
       "datasetKey\n",
       "c779b049-28f3-4daf-bbf4-0a40830819b6    2610\n",
       "b941d3d1-964e-47dc-a3e7-f8edb144e051    2603\n",
       "d8cd16ba-bb74-4420-821e-083f2bac17c2    1173\n",
       "50c9509d-22c7-4a22-a47d-8c48425ef4a7     497\n",
       "8a863029-f435-446a-821e-275f4f641165     470\n",
       "                                        ... \n",
       "533e8bc0-925e-11da-8900-b8a03c50a862       1\n",
       "63879c9a-f762-11e1-a439-00145eb45e9a       1\n",
       "f06fef3c-6ea6-4345-b724-a1b8e490dc55       1\n",
       "85877766-f762-11e1-a439-00145eb45e9a       1\n",
       "43e0bba3-9edb-4b00-b490-84924e55a222       1\n",
       "Name: count, Length: 135, dtype: int64"
      ]
     },
     "execution_count": 23,
     "metadata": {},
     "output_type": "execute_result"
    }
   ],
   "source": [
    "# number of observations per source\n",
    "df2[\"datasetKey\"].value_counts()"
   ]
  },
  {
   "cell_type": "markdown",
   "id": "1cb9bd48",
   "metadata": {},
   "source": [
    "Years of observations"
   ]
  },
  {
   "cell_type": "code",
   "execution_count": 24,
   "id": "44e11e76",
   "metadata": {},
   "outputs": [
    {
     "name": "stdout",
     "output_type": "stream",
     "text": [
      "years: 1840 - 2024\n",
      "number of years: 153\n"
     ]
    }
   ],
   "source": [
    "print(f'years: {int(df2[\"year\"].min())} - {int(df2[\"year\"].max())}')\n",
    "print(f'number of years: {len(df2[\"year\"].unique())}')"
   ]
  },
  {
   "cell_type": "code",
   "execution_count": 25,
   "id": "fc589c27",
   "metadata": {},
   "outputs": [
    {
     "data": {
      "text/plain": [
       "[<matplotlib.lines.Line2D at 0x7fa621e4d7e0>]"
      ]
     },
     "execution_count": 25,
     "metadata": {},
     "output_type": "execute_result"
    },
    {
     "data": {
      "image/png": "[encoded data removed]",
      "text/plain": [
       "<Figure size 640x480 with 1 Axes>"
      ]
     },
     "metadata": {},
     "output_type": "display_data"
    }
   ],
   "source": [
    "# number of observations per year\n",
    "plt.plot(df2[\"year\"].value_counts().sort_index())"
   ]
  },
  {
   "cell_type": "markdown",
   "id": "6aa9715a",
   "metadata": {},
   "source": [
    "Biases"
   ]
  },
  {
   "cell_type": "code",
   "execution_count": 26,
   "id": "d8ff418d",
   "metadata": {},
   "outputs": [
    {
     "data": {
      "text/plain": [
       "array(['HUMAN_OBSERVATION', 'PRESERVED_SPECIMEN', 'OBSERVATION',\n",
       "       'MATERIAL_CITATION', 'OCCURRENCE', 'MATERIAL_SAMPLE'], dtype=object)"
      ]
     },
     "execution_count": 26,
     "metadata": {},
     "output_type": "execute_result"
    }
   ],
   "source": [
    "df2[\"basisOfRecord\"].unique()"
   ]
  },
  {
   "cell_type": "code",
   "execution_count": 27,
   "id": "689de95c",
   "metadata": {},
   "outputs": [
    {
     "data": {
      "text/plain": [
       "basisOfRecord\n",
       "HUMAN_OBSERVATION     7348\n",
       "MATERIAL_SAMPLE       1147\n",
       "PRESERVED_SPECIMEN     638\n",
       "MATERIAL_CITATION      125\n",
       "OCCURRENCE              22\n",
       "OBSERVATION             11\n",
       "Name: count, dtype: int64"
      ]
     },
     "execution_count": 27,
     "metadata": {},
     "output_type": "execute_result"
    }
   ],
   "source": [
    "# value counts of basisOfRecord\n",
    "df2[\"basisOfRecord\"].value_counts()"
   ]
  },
  {
   "cell_type": "markdown",
   "id": "fcb2e417",
   "metadata": {},
   "source": [
    "Human observations might lead to biased inferences about parakeets as the voluntary observer contributions were not organized to sample uniformly accros space and time"
   ]
  }
 ],
 "metadata": {
  "kernelspec": {
   "display_name": "Python 3",
   "language": "python",
   "name": "python3"
  },
  "language_info": {
   "codemirror_mode": {
    "name": "ipython",
    "version": 3
   },
   "file_extension": ".py",
   "mimetype": "text/x-python",
   "name": "python",
   "nbconvert_exporter": "python",
   "pygments_lexer": "ipython3",
   "version": "3.10.12"
  }
 },
 "nbformat": 4,
 "nbformat_minor": 5
}
